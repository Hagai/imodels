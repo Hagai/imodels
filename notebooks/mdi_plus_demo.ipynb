{
 "cells": [
  {
   "cell_type": "markdown",
   "source": [
    "# MDI+: Example Usages"
   ],
   "metadata": {
    "collapsed": false
   }
  },
  {
   "cell_type": "code",
   "execution_count": 1,
   "outputs": [],
   "source": [
    "%reload_ext autoreload\n",
    "%autoreload 2\n",
    "import sys\n",
    "sys.path.append(\"../\")\n",
    "sys.path.append(\"../../\")\n",
    "\n",
    "import numpy as np\n",
    "import pandas as pd\n",
    "from sklearn.model_selection import train_test_split\n",
    "from sklearn.ensemble import RandomForestRegressor, RandomForestClassifier\n",
    "from sklearn.metrics import r2_score, mean_absolute_error, accuracy_score, roc_auc_score, mean_squared_error\n",
    "\n",
    "from imodels.importance import RandomForestPlusRegressor, RandomForestPlusClassifier, \\\n",
    "    RidgeRegressorPPM, LassoRegressorPPM, IdentityTransformer\n",
    "from imodels.importance.rf_plus import _fast_r2_score"
   ],
   "metadata": {
    "collapsed": false
   }
  },
  {
   "cell_type": "code",
   "execution_count": 2,
   "outputs": [],
   "source": [
    "def neg_mae(y_true, y_pred, **kwargs):\n",
    "    \"\"\"\n",
    "    Evaluates negative mean absolute error\n",
    "    \"\"\"\n",
    "    return -mean_absolute_error(y_true, y_pred, **kwargs)\n",
    "\n",
    "\n",
    "def neg_log_loss(y_true, y_pred, epsilon=1e-15):\n",
    "    \"\"\"\n",
    "    Evaluates negative log-loss\n",
    "    \"\"\"\n",
    "    y_pred = np.clip(y_pred, epsilon, 1 - epsilon)  # Clip predicted probabilities to avoid extreme values\n",
    "    return np.mean(y_true * np.log(y_pred) + (1 - y_true) * np.log(1 - y_pred))"
   ],
   "metadata": {
    "collapsed": false
   }
  },
  {
   "cell_type": "code",
   "execution_count": 3,
   "outputs": [],
   "source": [
    "# helper variables\n",
    "rf_regressor = RandomForestRegressor(n_estimators=100, min_samples_leaf=5, max_features=0.33, random_state=331)\n",
    "rf_classifier = RandomForestClassifier(n_estimators=100, min_samples_leaf=1, max_features=\"sqrt\", random_state=331)"
   ],
   "metadata": {
    "collapsed": false
   }
  },
  {
   "cell_type": "markdown",
   "source": [
    "## 1. Regression Example"
   ],
   "metadata": {
    "collapsed": false
   }
  },
  {
   "cell_type": "code",
   "execution_count": 4,
   "outputs": [],
   "source": [
    "# generate data from linear model: y = x1 + x2 + N(0, 1)\n",
    "n = 200\n",
    "p = 10\n",
    "s = 2\n",
    "X = np.random.normal(size=(n, p))\n",
    "beta = np.concatenate((np.ones(s), np.zeros(p-s)))\n",
    "y = np.matmul(X, beta) + np.random.normal(size=n)\n",
    "X_train, X_test, y_train, y_test = train_test_split(X, y, test_size=0.33, random_state=12345)"
   ],
   "metadata": {
    "collapsed": false
   }
  },
  {
   "cell_type": "markdown",
   "source": [
    "### 1.1 MDI+ with default settings for regression"
   ],
   "metadata": {
    "collapsed": false
   }
  },
  {
   "cell_type": "code",
   "execution_count": 5,
   "outputs": [],
   "source": [
    "# fit RF+\n",
    "rf_plus_model = RandomForestPlusRegressor(rf_model=rf_regressor)\n",
    "rf_plus_model.fit(X_train, y_train)"
   ],
   "metadata": {
    "collapsed": false
   }
  },
  {
   "cell_type": "code",
   "execution_count": 6,
   "outputs": [
    {
     "data": {
      "text/plain": "0.6236360279181548"
     },
     "execution_count": 6,
     "metadata": {},
     "output_type": "execute_result"
    }
   ],
   "source": [
    "# make predictions with RF+\n",
    "preds = rf_plus_model.predict(X_test)\n",
    "r2_score(y_test, preds)"
   ],
   "metadata": {
    "collapsed": false
   }
  },
  {
   "cell_type": "code",
   "execution_count": 7,
   "outputs": [
    {
     "data": {
      "text/plain": "   var  importance\n1    1    0.279777\n0    0    0.242784\n5    5   -0.000699\n2    2   -0.003691\n7    7   -0.004302\n4    4   -0.005231\n3    3   -0.005823\n8    8   -0.006085\n9    9   -0.006333\n6    6   -0.007457",
      "text/html": "<div>\n<style scoped>\n    .dataframe tbody tr th:only-of-type {\n        vertical-align: middle;\n    }\n\n    .dataframe tbody tr th {\n        vertical-align: top;\n    }\n\n    .dataframe thead th {\n        text-align: right;\n    }\n</style>\n<table border=\"1\" class=\"dataframe\">\n  <thead>\n    <tr style=\"text-align: right;\">\n      <th></th>\n      <th>var</th>\n      <th>importance</th>\n    </tr>\n  </thead>\n  <tbody>\n    <tr>\n      <th>1</th>\n      <td>1</td>\n      <td>0.279777</td>\n    </tr>\n    <tr>\n      <th>0</th>\n      <td>0</td>\n      <td>0.242784</td>\n    </tr>\n    <tr>\n      <th>5</th>\n      <td>5</td>\n      <td>-0.000699</td>\n    </tr>\n    <tr>\n      <th>2</th>\n      <td>2</td>\n      <td>-0.003691</td>\n    </tr>\n    <tr>\n      <th>7</th>\n      <td>7</td>\n      <td>-0.004302</td>\n    </tr>\n    <tr>\n      <th>4</th>\n      <td>4</td>\n      <td>-0.005231</td>\n    </tr>\n    <tr>\n      <th>3</th>\n      <td>3</td>\n      <td>-0.005823</td>\n    </tr>\n    <tr>\n      <th>8</th>\n      <td>8</td>\n      <td>-0.006085</td>\n    </tr>\n    <tr>\n      <th>9</th>\n      <td>9</td>\n      <td>-0.006333</td>\n    </tr>\n    <tr>\n      <th>6</th>\n      <td>6</td>\n      <td>-0.007457</td>\n    </tr>\n  </tbody>\n</table>\n</div>"
     },
     "execution_count": 7,
     "metadata": {},
     "output_type": "execute_result"
    }
   ],
   "source": [
    "# get MDI+ scores (higher r^2 value = greater importance)\n",
    "mdi_plus_scores = rf_plus_model.get_mdi_plus_scores(X_train, y_train)\n",
    "mdi_plus_scores.sort_values(\"importance\", ascending=False)"
   ],
   "metadata": {
    "collapsed": false
   }
  },
  {
   "cell_type": "markdown",
   "source": [
    "#### 1.1.1. Local Feature Importances"
   ],
   "metadata": {
    "collapsed": false
   }
  },
  {
   "cell_type": "code",
   "execution_count": 8,
   "outputs": [],
   "source": [
    "# get global MDI+ scores using default scoring function (i.e., R^2 for regression so higher = greater importance)\n",
    "# and local MDI+ scores using mean squared error (so lower = greater importance)\n",
    "mdi_plus_scores = rf_plus_model.get_mdi_plus_scores(\n",
    "    X_train, y_train, local_scoring_fns=mean_squared_error\n",
    ")"
   ],
   "metadata": {
    "collapsed": false
   }
  },
  {
   "cell_type": "code",
   "execution_count": 9,
   "outputs": [
    {
     "data": {
      "text/plain": "   var  importance\n1    1    0.279777\n0    0    0.242784\n5    5   -0.000699\n2    2   -0.003691\n7    7   -0.004302\n4    4   -0.005231\n3    3   -0.005823\n8    8   -0.006085\n9    9   -0.006333\n6    6   -0.007457",
      "text/html": "<div>\n<style scoped>\n    .dataframe tbody tr th:only-of-type {\n        vertical-align: middle;\n    }\n\n    .dataframe tbody tr th {\n        vertical-align: top;\n    }\n\n    .dataframe thead th {\n        text-align: right;\n    }\n</style>\n<table border=\"1\" class=\"dataframe\">\n  <thead>\n    <tr style=\"text-align: right;\">\n      <th></th>\n      <th>var</th>\n      <th>importance</th>\n    </tr>\n  </thead>\n  <tbody>\n    <tr>\n      <th>1</th>\n      <td>1</td>\n      <td>0.279777</td>\n    </tr>\n    <tr>\n      <th>0</th>\n      <td>0</td>\n      <td>0.242784</td>\n    </tr>\n    <tr>\n      <th>5</th>\n      <td>5</td>\n      <td>-0.000699</td>\n    </tr>\n    <tr>\n      <th>2</th>\n      <td>2</td>\n      <td>-0.003691</td>\n    </tr>\n    <tr>\n      <th>7</th>\n      <td>7</td>\n      <td>-0.004302</td>\n    </tr>\n    <tr>\n      <th>4</th>\n      <td>4</td>\n      <td>-0.005231</td>\n    </tr>\n    <tr>\n      <th>3</th>\n      <td>3</td>\n      <td>-0.005823</td>\n    </tr>\n    <tr>\n      <th>8</th>\n      <td>8</td>\n      <td>-0.006085</td>\n    </tr>\n    <tr>\n      <th>9</th>\n      <td>9</td>\n      <td>-0.006333</td>\n    </tr>\n    <tr>\n      <th>6</th>\n      <td>6</td>\n      <td>-0.007457</td>\n    </tr>\n  </tbody>\n</table>\n</div>"
     },
     "execution_count": 9,
     "metadata": {},
     "output_type": "execute_result"
    }
   ],
   "source": [
    "mdi_plus_scores[\"global\"].sort_values(\"importance\", ascending=False)"
   ],
   "metadata": {
    "collapsed": false
   }
  },
  {
   "cell_type": "code",
   "execution_count": 10,
   "outputs": [
    {
     "data": {
      "text/plain": "            0         1         2         3         4         5         6  \\\n0    1.441626  1.109556  0.106475  0.072105  0.072478  0.062182  0.094234   \n1    0.104441  1.962484  0.585299  0.449452  0.427229  0.566528  0.492860   \n2    1.322728  0.140525  0.007655  0.010769  0.012496  0.014245  0.010718   \n3    3.595042  0.807844  3.934170  3.768775  3.846275  3.715765  3.704057   \n4    0.311039  2.280662  0.681646  0.817150  0.683187  0.762547  0.779904   \n..        ...       ...       ...       ...       ...       ...       ...   \n129  1.512446  3.055195  3.276597  3.112024  3.084210  3.138752  2.946486   \n130  6.308365  0.170479  1.672127  1.683363  1.902355  1.764894  1.699032   \n131  0.430185  0.623461  0.323257  0.273832  0.297575  0.269615  0.316479   \n132  0.632103  2.486750  3.239558  3.118425  3.217633  3.098267  3.188929   \n133  0.041548  0.011650  0.022039  0.064218  0.055151  0.055660  0.048907   \n\n            7         8         9  \n0    0.072579  0.076139  0.082780  \n1    0.497481  0.525555  0.462174  \n2    0.015243  0.010803  0.007628  \n3    4.025454  3.741831  3.878774  \n4    0.722771  0.737181  0.704091  \n..        ...       ...       ...  \n129  3.122493  3.058612  3.048397  \n130  1.722404  1.628380  1.630559  \n131  0.265710  0.294890  0.316750  \n132  3.234352  3.082505  3.369401  \n133  0.037228  0.040820  0.029137  \n\n[134 rows x 10 columns]",
      "text/html": "<div>\n<style scoped>\n    .dataframe tbody tr th:only-of-type {\n        vertical-align: middle;\n    }\n\n    .dataframe tbody tr th {\n        vertical-align: top;\n    }\n\n    .dataframe thead th {\n        text-align: right;\n    }\n</style>\n<table border=\"1\" class=\"dataframe\">\n  <thead>\n    <tr style=\"text-align: right;\">\n      <th></th>\n      <th>0</th>\n      <th>1</th>\n      <th>2</th>\n      <th>3</th>\n      <th>4</th>\n      <th>5</th>\n      <th>6</th>\n      <th>7</th>\n      <th>8</th>\n      <th>9</th>\n    </tr>\n  </thead>\n  <tbody>\n    <tr>\n      <th>0</th>\n      <td>1.441626</td>\n      <td>1.109556</td>\n      <td>0.106475</td>\n      <td>0.072105</td>\n      <td>0.072478</td>\n      <td>0.062182</td>\n      <td>0.094234</td>\n      <td>0.072579</td>\n      <td>0.076139</td>\n      <td>0.082780</td>\n    </tr>\n    <tr>\n      <th>1</th>\n      <td>0.104441</td>\n      <td>1.962484</td>\n      <td>0.585299</td>\n      <td>0.449452</td>\n      <td>0.427229</td>\n      <td>0.566528</td>\n      <td>0.492860</td>\n      <td>0.497481</td>\n      <td>0.525555</td>\n      <td>0.462174</td>\n    </tr>\n    <tr>\n      <th>2</th>\n      <td>1.322728</td>\n      <td>0.140525</td>\n      <td>0.007655</td>\n      <td>0.010769</td>\n      <td>0.012496</td>\n      <td>0.014245</td>\n      <td>0.010718</td>\n      <td>0.015243</td>\n      <td>0.010803</td>\n      <td>0.007628</td>\n    </tr>\n    <tr>\n      <th>3</th>\n      <td>3.595042</td>\n      <td>0.807844</td>\n      <td>3.934170</td>\n      <td>3.768775</td>\n      <td>3.846275</td>\n      <td>3.715765</td>\n      <td>3.704057</td>\n      <td>4.025454</td>\n      <td>3.741831</td>\n      <td>3.878774</td>\n    </tr>\n    <tr>\n      <th>4</th>\n      <td>0.311039</td>\n      <td>2.280662</td>\n      <td>0.681646</td>\n      <td>0.817150</td>\n      <td>0.683187</td>\n      <td>0.762547</td>\n      <td>0.779904</td>\n      <td>0.722771</td>\n      <td>0.737181</td>\n      <td>0.704091</td>\n    </tr>\n    <tr>\n      <th>...</th>\n      <td>...</td>\n      <td>...</td>\n      <td>...</td>\n      <td>...</td>\n      <td>...</td>\n      <td>...</td>\n      <td>...</td>\n      <td>...</td>\n      <td>...</td>\n      <td>...</td>\n    </tr>\n    <tr>\n      <th>129</th>\n      <td>1.512446</td>\n      <td>3.055195</td>\n      <td>3.276597</td>\n      <td>3.112024</td>\n      <td>3.084210</td>\n      <td>3.138752</td>\n      <td>2.946486</td>\n      <td>3.122493</td>\n      <td>3.058612</td>\n      <td>3.048397</td>\n    </tr>\n    <tr>\n      <th>130</th>\n      <td>6.308365</td>\n      <td>0.170479</td>\n      <td>1.672127</td>\n      <td>1.683363</td>\n      <td>1.902355</td>\n      <td>1.764894</td>\n      <td>1.699032</td>\n      <td>1.722404</td>\n      <td>1.628380</td>\n      <td>1.630559</td>\n    </tr>\n    <tr>\n      <th>131</th>\n      <td>0.430185</td>\n      <td>0.623461</td>\n      <td>0.323257</td>\n      <td>0.273832</td>\n      <td>0.297575</td>\n      <td>0.269615</td>\n      <td>0.316479</td>\n      <td>0.265710</td>\n      <td>0.294890</td>\n      <td>0.316750</td>\n    </tr>\n    <tr>\n      <th>132</th>\n      <td>0.632103</td>\n      <td>2.486750</td>\n      <td>3.239558</td>\n      <td>3.118425</td>\n      <td>3.217633</td>\n      <td>3.098267</td>\n      <td>3.188929</td>\n      <td>3.234352</td>\n      <td>3.082505</td>\n      <td>3.369401</td>\n    </tr>\n    <tr>\n      <th>133</th>\n      <td>0.041548</td>\n      <td>0.011650</td>\n      <td>0.022039</td>\n      <td>0.064218</td>\n      <td>0.055151</td>\n      <td>0.055660</td>\n      <td>0.048907</td>\n      <td>0.037228</td>\n      <td>0.040820</td>\n      <td>0.029137</td>\n    </tr>\n  </tbody>\n</table>\n<p>134 rows × 10 columns</p>\n</div>"
     },
     "execution_count": 10,
     "metadata": {},
     "output_type": "execute_result"
    }
   ],
   "source": [
    "mdi_plus_scores[\"local\"]"
   ],
   "metadata": {
    "collapsed": false
   }
  },
  {
   "cell_type": "markdown",
   "source": [
    "### 1.2 MDI+ with custom partial prediction model and evaluation metric(s)"
   ],
   "metadata": {
    "collapsed": false
   }
  },
  {
   "cell_type": "code",
   "execution_count": 11,
   "outputs": [],
   "source": [
    "# fit RF+ with custom partial prediction model\n",
    "rf_plus_model = RandomForestPlusRegressor(rf_model=rf_regressor, prediction_model=LassoRegressorPPM())\n",
    "rf_plus_model.fit(X_train, y_train)"
   ],
   "metadata": {
    "collapsed": false
   }
  },
  {
   "cell_type": "code",
   "execution_count": 12,
   "outputs": [
    {
     "data": {
      "text/plain": "   var  r2_score  negative_mae\n1    1  0.286972     -1.096935\n0    0  0.245260     -1.133246\n7    7 -0.002334     -1.338106\n5    5 -0.002738     -1.337874\n2    2 -0.002837     -1.339012\n3    3 -0.003279     -1.337707\n8    8 -0.003511     -1.337891\n6    6 -0.003702     -1.339329\n9    9 -0.004236     -1.337849\n4    4 -0.004788     -1.339245",
      "text/html": "<div>\n<style scoped>\n    .dataframe tbody tr th:only-of-type {\n        vertical-align: middle;\n    }\n\n    .dataframe tbody tr th {\n        vertical-align: top;\n    }\n\n    .dataframe thead th {\n        text-align: right;\n    }\n</style>\n<table border=\"1\" class=\"dataframe\">\n  <thead>\n    <tr style=\"text-align: right;\">\n      <th></th>\n      <th>var</th>\n      <th>r2_score</th>\n      <th>negative_mae</th>\n    </tr>\n  </thead>\n  <tbody>\n    <tr>\n      <th>1</th>\n      <td>1</td>\n      <td>0.286972</td>\n      <td>-1.096935</td>\n    </tr>\n    <tr>\n      <th>0</th>\n      <td>0</td>\n      <td>0.245260</td>\n      <td>-1.133246</td>\n    </tr>\n    <tr>\n      <th>7</th>\n      <td>7</td>\n      <td>-0.002334</td>\n      <td>-1.338106</td>\n    </tr>\n    <tr>\n      <th>5</th>\n      <td>5</td>\n      <td>-0.002738</td>\n      <td>-1.337874</td>\n    </tr>\n    <tr>\n      <th>2</th>\n      <td>2</td>\n      <td>-0.002837</td>\n      <td>-1.339012</td>\n    </tr>\n    <tr>\n      <th>3</th>\n      <td>3</td>\n      <td>-0.003279</td>\n      <td>-1.337707</td>\n    </tr>\n    <tr>\n      <th>8</th>\n      <td>8</td>\n      <td>-0.003511</td>\n      <td>-1.337891</td>\n    </tr>\n    <tr>\n      <th>6</th>\n      <td>6</td>\n      <td>-0.003702</td>\n      <td>-1.339329</td>\n    </tr>\n    <tr>\n      <th>9</th>\n      <td>9</td>\n      <td>-0.004236</td>\n      <td>-1.337849</td>\n    </tr>\n    <tr>\n      <th>4</th>\n      <td>4</td>\n      <td>-0.004788</td>\n      <td>-1.339245</td>\n    </tr>\n  </tbody>\n</table>\n</div>"
     },
     "execution_count": 12,
     "metadata": {},
     "output_type": "execute_result"
    }
   ],
   "source": [
    "# get MDI+ scores with custom evaluation metrics/scorers\n",
    "mdi_plus_scores = rf_plus_model.get_mdi_plus_scores(X_train, y_train, scoring_fns={\"r2_score\": _fast_r2_score, \"negative_mae\": neg_mae})\n",
    "mdi_plus_scores.sort_values(\"r2_score\", ascending=False)"
   ],
   "metadata": {
    "collapsed": false
   }
  },
  {
   "cell_type": "markdown",
   "source": [
    "#### 1.2.1. Local Feature Importances"
   ],
   "metadata": {
    "collapsed": false
   }
  },
  {
   "cell_type": "code",
   "execution_count": 13,
   "outputs": [
    {
     "name": "stderr",
     "output_type": "stream",
     "text": [
      "../imodels/importance/rf_plus.py:478: RuntimeWarning: divide by zero encountered in double_scalars\n",
      "  return 1 - numerator / denominator\n",
      "../imodels/importance/rf_plus.py:478: RuntimeWarning: divide by zero encountered in double_scalars\n",
      "  return 1 - numerator / denominator\n",
      "../imodels/importance/rf_plus.py:478: RuntimeWarning: divide by zero encountered in double_scalars\n",
      "  return 1 - numerator / denominator\n",
      "../imodels/importance/rf_plus.py:478: RuntimeWarning: divide by zero encountered in double_scalars\n",
      "  return 1 - numerator / denominator\n",
      "../imodels/importance/rf_plus.py:478: RuntimeWarning: divide by zero encountered in double_scalars\n",
      "  return 1 - numerator / denominator\n",
      "../imodels/importance/rf_plus.py:478: RuntimeWarning: divide by zero encountered in double_scalars\n",
      "  return 1 - numerator / denominator\n",
      "../imodels/importance/rf_plus.py:478: RuntimeWarning: divide by zero encountered in double_scalars\n",
      "  return 1 - numerator / denominator\n",
      "../imodels/importance/rf_plus.py:478: RuntimeWarning: divide by zero encountered in double_scalars\n",
      "  return 1 - numerator / denominator\n",
      "../imodels/importance/rf_plus.py:478: RuntimeWarning: divide by zero encountered in double_scalars\n",
      "  return 1 - numerator / denominator\n",
      "../imodels/importance/rf_plus.py:478: RuntimeWarning: divide by zero encountered in double_scalars\n",
      "  return 1 - numerator / denominator\n",
      "../imodels/importance/rf_plus.py:478: RuntimeWarning: divide by zero encountered in double_scalars\n",
      "  return 1 - numerator / denominator\n",
      "../imodels/importance/rf_plus.py:478: RuntimeWarning: divide by zero encountered in double_scalars\n",
      "  return 1 - numerator / denominator\n",
      "../imodels/importance/rf_plus.py:478: RuntimeWarning: divide by zero encountered in double_scalars\n",
      "  return 1 - numerator / denominator\n",
      "../imodels/importance/rf_plus.py:478: RuntimeWarning: divide by zero encountered in double_scalars\n",
      "  return 1 - numerator / denominator\n",
      "../imodels/importance/rf_plus.py:478: RuntimeWarning: divide by zero encountered in double_scalars\n",
      "  return 1 - numerator / denominator\n",
      "../imodels/importance/rf_plus.py:478: RuntimeWarning: divide by zero encountered in double_scalars\n",
      "  return 1 - numerator / denominator\n",
      "../imodels/importance/rf_plus.py:478: RuntimeWarning: divide by zero encountered in double_scalars\n",
      "  return 1 - numerator / denominator\n",
      "../imodels/importance/rf_plus.py:478: RuntimeWarning: divide by zero encountered in double_scalars\n",
      "  return 1 - numerator / denominator\n",
      "../imodels/importance/rf_plus.py:478: RuntimeWarning: divide by zero encountered in double_scalars\n",
      "  return 1 - numerator / denominator\n",
      "../imodels/importance/rf_plus.py:478: RuntimeWarning: divide by zero encountered in double_scalars\n",
      "  return 1 - numerator / denominator\n",
      "../imodels/importance/rf_plus.py:478: RuntimeWarning: divide by zero encountered in double_scalars\n",
      "  return 1 - numerator / denominator\n",
      "../imodels/importance/rf_plus.py:478: RuntimeWarning: divide by zero encountered in double_scalars\n",
      "  return 1 - numerator / denominator\n",
      "../imodels/importance/rf_plus.py:478: RuntimeWarning: divide by zero encountered in double_scalars\n",
      "  return 1 - numerator / denominator\n",
      "../imodels/importance/rf_plus.py:478: RuntimeWarning: divide by zero encountered in double_scalars\n",
      "  return 1 - numerator / denominator\n",
      "../imodels/importance/rf_plus.py:478: RuntimeWarning: divide by zero encountered in double_scalars\n",
      "  return 1 - numerator / denominator\n",
      "../imodels/importance/rf_plus.py:478: RuntimeWarning: divide by zero encountered in double_scalars\n",
      "  return 1 - numerator / denominator\n",
      "../imodels/importance/rf_plus.py:478: RuntimeWarning: divide by zero encountered in double_scalars\n",
      "  return 1 - numerator / denominator\n",
      "../imodels/importance/rf_plus.py:478: RuntimeWarning: divide by zero encountered in double_scalars\n",
      "  return 1 - numerator / denominator\n",
      "../imodels/importance/rf_plus.py:478: RuntimeWarning: divide by zero encountered in double_scalars\n",
      "  return 1 - numerator / denominator\n",
      "../imodels/importance/rf_plus.py:478: RuntimeWarning: divide by zero encountered in double_scalars\n",
      "  return 1 - numerator / denominator\n",
      "../imodels/importance/rf_plus.py:478: RuntimeWarning: divide by zero encountered in double_scalars\n",
      "  return 1 - numerator / denominator\n",
      "../imodels/importance/rf_plus.py:478: RuntimeWarning: divide by zero encountered in double_scalars\n",
      "  return 1 - numerator / denominator\n",
      "../imodels/importance/rf_plus.py:478: RuntimeWarning: divide by zero encountered in double_scalars\n",
      "  return 1 - numerator / denominator\n",
      "../imodels/importance/rf_plus.py:478: RuntimeWarning: divide by zero encountered in double_scalars\n",
      "  return 1 - numerator / denominator\n",
      "../imodels/importance/rf_plus.py:478: RuntimeWarning: divide by zero encountered in double_scalars\n",
      "  return 1 - numerator / denominator\n",
      "../imodels/importance/rf_plus.py:478: RuntimeWarning: divide by zero encountered in double_scalars\n",
      "  return 1 - numerator / denominator\n",
      "../imodels/importance/rf_plus.py:478: RuntimeWarning: divide by zero encountered in double_scalars\n",
      "  return 1 - numerator / denominator\n",
      "../imodels/importance/rf_plus.py:478: RuntimeWarning: divide by zero encountered in double_scalars\n",
      "  return 1 - numerator / denominator\n",
      "../imodels/importance/rf_plus.py:478: RuntimeWarning: divide by zero encountered in double_scalars\n",
      "  return 1 - numerator / denominator\n",
      "../imodels/importance/rf_plus.py:478: RuntimeWarning: divide by zero encountered in double_scalars\n",
      "  return 1 - numerator / denominator\n",
      "../imodels/importance/rf_plus.py:478: RuntimeWarning: divide by zero encountered in double_scalars\n",
      "  return 1 - numerator / denominator\n",
      "../imodels/importance/rf_plus.py:478: RuntimeWarning: divide by zero encountered in double_scalars\n",
      "  return 1 - numerator / denominator\n",
      "../imodels/importance/rf_plus.py:478: RuntimeWarning: divide by zero encountered in double_scalars\n",
      "  return 1 - numerator / denominator\n",
      "../imodels/importance/rf_plus.py:478: RuntimeWarning: divide by zero encountered in double_scalars\n",
      "  return 1 - numerator / denominator\n",
      "../imodels/importance/rf_plus.py:478: RuntimeWarning: divide by zero encountered in double_scalars\n",
      "  return 1 - numerator / denominator\n",
      "../imodels/importance/rf_plus.py:478: RuntimeWarning: divide by zero encountered in double_scalars\n",
      "  return 1 - numerator / denominator\n",
      "../imodels/importance/rf_plus.py:478: RuntimeWarning: divide by zero encountered in double_scalars\n",
      "  return 1 - numerator / denominator\n",
      "../imodels/importance/rf_plus.py:478: RuntimeWarning: divide by zero encountered in double_scalars\n",
      "  return 1 - numerator / denominator\n",
      "../imodels/importance/rf_plus.py:478: RuntimeWarning: divide by zero encountered in double_scalars\n",
      "  return 1 - numerator / denominator\n",
      "../imodels/importance/rf_plus.py:478: RuntimeWarning: divide by zero encountered in double_scalars\n",
      "  return 1 - numerator / denominator\n",
      "../imodels/importance/rf_plus.py:478: RuntimeWarning: divide by zero encountered in double_scalars\n",
      "  return 1 - numerator / denominator\n",
      "../imodels/importance/rf_plus.py:478: RuntimeWarning: divide by zero encountered in double_scalars\n",
      "  return 1 - numerator / denominator\n",
      "../imodels/importance/rf_plus.py:478: RuntimeWarning: divide by zero encountered in double_scalars\n",
      "  return 1 - numerator / denominator\n",
      "../imodels/importance/rf_plus.py:478: RuntimeWarning: divide by zero encountered in double_scalars\n",
      "  return 1 - numerator / denominator\n",
      "../imodels/importance/rf_plus.py:478: RuntimeWarning: divide by zero encountered in double_scalars\n",
      "  return 1 - numerator / denominator\n",
      "../imodels/importance/rf_plus.py:478: RuntimeWarning: divide by zero encountered in double_scalars\n",
      "  return 1 - numerator / denominator\n",
      "../imodels/importance/rf_plus.py:478: RuntimeWarning: divide by zero encountered in double_scalars\n",
      "  return 1 - numerator / denominator\n",
      "../imodels/importance/rf_plus.py:478: RuntimeWarning: divide by zero encountered in double_scalars\n",
      "  return 1 - numerator / denominator\n",
      "../imodels/importance/rf_plus.py:478: RuntimeWarning: divide by zero encountered in double_scalars\n",
      "  return 1 - numerator / denominator\n",
      "../imodels/importance/rf_plus.py:478: RuntimeWarning: divide by zero encountered in double_scalars\n",
      "  return 1 - numerator / denominator\n",
      "../imodels/importance/rf_plus.py:478: RuntimeWarning: divide by zero encountered in double_scalars\n",
      "  return 1 - numerator / denominator\n",
      "../imodels/importance/rf_plus.py:478: RuntimeWarning: divide by zero encountered in double_scalars\n",
      "  return 1 - numerator / denominator\n",
      "../imodels/importance/rf_plus.py:478: RuntimeWarning: divide by zero encountered in double_scalars\n",
      "  return 1 - numerator / denominator\n",
      "../imodels/importance/rf_plus.py:478: RuntimeWarning: divide by zero encountered in double_scalars\n",
      "  return 1 - numerator / denominator\n",
      "../imodels/importance/rf_plus.py:478: RuntimeWarning: divide by zero encountered in double_scalars\n",
      "  return 1 - numerator / denominator\n",
      "../imodels/importance/rf_plus.py:478: RuntimeWarning: divide by zero encountered in double_scalars\n",
      "  return 1 - numerator / denominator\n",
      "../imodels/importance/rf_plus.py:478: RuntimeWarning: divide by zero encountered in double_scalars\n",
      "  return 1 - numerator / denominator\n",
      "../imodels/importance/rf_plus.py:478: RuntimeWarning: divide by zero encountered in double_scalars\n",
      "  return 1 - numerator / denominator\n",
      "../imodels/importance/rf_plus.py:478: RuntimeWarning: divide by zero encountered in double_scalars\n",
      "  return 1 - numerator / denominator\n",
      "../imodels/importance/rf_plus.py:478: RuntimeWarning: divide by zero encountered in double_scalars\n",
      "  return 1 - numerator / denominator\n",
      "../imodels/importance/rf_plus.py:478: RuntimeWarning: divide by zero encountered in double_scalars\n",
      "  return 1 - numerator / denominator\n",
      "../imodels/importance/rf_plus.py:478: RuntimeWarning: divide by zero encountered in double_scalars\n",
      "  return 1 - numerator / denominator\n",
      "../imodels/importance/rf_plus.py:478: RuntimeWarning: divide by zero encountered in double_scalars\n",
      "  return 1 - numerator / denominator\n",
      "../imodels/importance/rf_plus.py:478: RuntimeWarning: divide by zero encountered in double_scalars\n",
      "  return 1 - numerator / denominator\n",
      "../imodels/importance/rf_plus.py:478: RuntimeWarning: divide by zero encountered in double_scalars\n",
      "  return 1 - numerator / denominator\n",
      "../imodels/importance/rf_plus.py:478: RuntimeWarning: divide by zero encountered in double_scalars\n",
      "  return 1 - numerator / denominator\n",
      "../imodels/importance/rf_plus.py:478: RuntimeWarning: divide by zero encountered in double_scalars\n",
      "  return 1 - numerator / denominator\n",
      "../imodels/importance/rf_plus.py:478: RuntimeWarning: divide by zero encountered in double_scalars\n",
      "  return 1 - numerator / denominator\n",
      "../imodels/importance/rf_plus.py:478: RuntimeWarning: divide by zero encountered in double_scalars\n",
      "  return 1 - numerator / denominator\n",
      "../imodels/importance/rf_plus.py:478: RuntimeWarning: divide by zero encountered in double_scalars\n",
      "  return 1 - numerator / denominator\n",
      "../imodels/importance/rf_plus.py:478: RuntimeWarning: divide by zero encountered in double_scalars\n",
      "  return 1 - numerator / denominator\n",
      "../imodels/importance/rf_plus.py:478: RuntimeWarning: divide by zero encountered in double_scalars\n",
      "  return 1 - numerator / denominator\n",
      "../imodels/importance/rf_plus.py:478: RuntimeWarning: divide by zero encountered in double_scalars\n",
      "  return 1 - numerator / denominator\n",
      "../imodels/importance/rf_plus.py:478: RuntimeWarning: divide by zero encountered in double_scalars\n",
      "  return 1 - numerator / denominator\n",
      "../imodels/importance/rf_plus.py:478: RuntimeWarning: divide by zero encountered in double_scalars\n",
      "  return 1 - numerator / denominator\n",
      "../imodels/importance/rf_plus.py:478: RuntimeWarning: divide by zero encountered in double_scalars\n",
      "  return 1 - numerator / denominator\n",
      "../imodels/importance/rf_plus.py:478: RuntimeWarning: divide by zero encountered in double_scalars\n",
      "  return 1 - numerator / denominator\n",
      "../imodels/importance/rf_plus.py:478: RuntimeWarning: divide by zero encountered in double_scalars\n",
      "  return 1 - numerator / denominator\n",
      "../imodels/importance/rf_plus.py:478: RuntimeWarning: divide by zero encountered in double_scalars\n",
      "  return 1 - numerator / denominator\n",
      "../imodels/importance/rf_plus.py:478: RuntimeWarning: divide by zero encountered in double_scalars\n",
      "  return 1 - numerator / denominator\n",
      "../imodels/importance/rf_plus.py:478: RuntimeWarning: divide by zero encountered in double_scalars\n",
      "  return 1 - numerator / denominator\n",
      "../imodels/importance/rf_plus.py:478: RuntimeWarning: divide by zero encountered in double_scalars\n",
      "  return 1 - numerator / denominator\n",
      "../imodels/importance/rf_plus.py:478: RuntimeWarning: divide by zero encountered in double_scalars\n",
      "  return 1 - numerator / denominator\n",
      "../imodels/importance/rf_plus.py:478: RuntimeWarning: divide by zero encountered in double_scalars\n",
      "  return 1 - numerator / denominator\n",
      "../imodels/importance/rf_plus.py:478: RuntimeWarning: divide by zero encountered in double_scalars\n",
      "  return 1 - numerator / denominator\n",
      "../imodels/importance/rf_plus.py:478: RuntimeWarning: divide by zero encountered in double_scalars\n",
      "  return 1 - numerator / denominator\n",
      "../imodels/importance/rf_plus.py:478: RuntimeWarning: divide by zero encountered in double_scalars\n",
      "  return 1 - numerator / denominator\n",
      "../imodels/importance/rf_plus.py:478: RuntimeWarning: divide by zero encountered in double_scalars\n",
      "  return 1 - numerator / denominator\n",
      "../imodels/importance/rf_plus.py:478: RuntimeWarning: divide by zero encountered in double_scalars\n",
      "  return 1 - numerator / denominator\n",
      "../imodels/importance/rf_plus.py:478: RuntimeWarning: divide by zero encountered in double_scalars\n",
      "  return 1 - numerator / denominator\n"
     ]
    }
   ],
   "source": [
    "# get global and local MDI+ scores with custom evaluation metrics/scorers\n",
    "mdi_plus_scores = rf_plus_model.get_mdi_plus_scores(\n",
    "    X_train, y_train,\n",
    "    scoring_fns={\"r2_score\": _fast_r2_score, \"negative_mae\": neg_mae},\n",
    "    local_scoring_fns=True\n",
    ")"
   ],
   "metadata": {
    "collapsed": false
   }
  },
  {
   "cell_type": "code",
   "execution_count": 14,
   "outputs": [
    {
     "data": {
      "text/plain": "   var  r2_score  negative_mae\n1    1  0.286972     -1.096935\n0    0  0.245260     -1.133246\n3    3 -0.003279     -1.337707\n9    9 -0.004236     -1.337849\n5    5 -0.002738     -1.337874\n8    8 -0.003511     -1.337891\n7    7 -0.002334     -1.338106\n2    2 -0.002837     -1.339012\n4    4 -0.004788     -1.339245\n6    6 -0.003702     -1.339329",
      "text/html": "<div>\n<style scoped>\n    .dataframe tbody tr th:only-of-type {\n        vertical-align: middle;\n    }\n\n    .dataframe tbody tr th {\n        vertical-align: top;\n    }\n\n    .dataframe thead th {\n        text-align: right;\n    }\n</style>\n<table border=\"1\" class=\"dataframe\">\n  <thead>\n    <tr style=\"text-align: right;\">\n      <th></th>\n      <th>var</th>\n      <th>r2_score</th>\n      <th>negative_mae</th>\n    </tr>\n  </thead>\n  <tbody>\n    <tr>\n      <th>1</th>\n      <td>1</td>\n      <td>0.286972</td>\n      <td>-1.096935</td>\n    </tr>\n    <tr>\n      <th>0</th>\n      <td>0</td>\n      <td>0.245260</td>\n      <td>-1.133246</td>\n    </tr>\n    <tr>\n      <th>3</th>\n      <td>3</td>\n      <td>-0.003279</td>\n      <td>-1.337707</td>\n    </tr>\n    <tr>\n      <th>9</th>\n      <td>9</td>\n      <td>-0.004236</td>\n      <td>-1.337849</td>\n    </tr>\n    <tr>\n      <th>5</th>\n      <td>5</td>\n      <td>-0.002738</td>\n      <td>-1.337874</td>\n    </tr>\n    <tr>\n      <th>8</th>\n      <td>8</td>\n      <td>-0.003511</td>\n      <td>-1.337891</td>\n    </tr>\n    <tr>\n      <th>7</th>\n      <td>7</td>\n      <td>-0.002334</td>\n      <td>-1.338106</td>\n    </tr>\n    <tr>\n      <th>2</th>\n      <td>2</td>\n      <td>-0.002837</td>\n      <td>-1.339012</td>\n    </tr>\n    <tr>\n      <th>4</th>\n      <td>4</td>\n      <td>-0.004788</td>\n      <td>-1.339245</td>\n    </tr>\n    <tr>\n      <th>6</th>\n      <td>6</td>\n      <td>-0.003702</td>\n      <td>-1.339329</td>\n    </tr>\n  </tbody>\n</table>\n</div>"
     },
     "execution_count": 14,
     "metadata": {},
     "output_type": "execute_result"
    }
   ],
   "source": [
    "mdi_plus_scores[\"global\"].sort_values(\"negative_mae\", ascending=False)"
   ],
   "metadata": {
    "collapsed": false
   }
  },
  {
   "cell_type": "code",
   "execution_count": 15,
   "outputs": [
    {
     "data": {
      "text/plain": "            0         1         2         3         4         5         6  \\\n0   -1.218195 -1.086275 -0.263831 -0.251098 -0.259852 -0.250144 -0.277268   \n1   -0.324760 -1.430624 -0.718211 -0.683088 -0.678600 -0.708994 -0.692358   \n2   -1.097948 -0.353872 -0.061290 -0.060664 -0.066387 -0.071954 -0.067811   \n3   -1.911652 -0.852492 -1.977808 -1.973486 -1.971479 -1.958383 -1.946350   \n4   -0.500609 -1.530723 -0.849811 -0.879037 -0.860548 -0.874949 -0.871702   \n..        ...       ...       ...       ...       ...       ...       ...   \n129 -1.232509 -1.740134 -1.780201 -1.760946 -1.753791 -1.754896 -1.723995   \n130 -2.522394 -0.355162 -1.282015 -1.286160 -1.302432 -1.297216 -1.286143   \n131 -0.627356 -0.815604 -0.555578 -0.531252 -0.537819 -0.526478 -0.541340   \n132 -0.722513 -1.562450 -1.792277 -1.775237 -1.788320 -1.767218 -1.785879   \n133 -0.101160 -0.033766 -0.165233 -0.192831 -0.180443 -0.191130 -0.182856   \n\n            7         8         9  \n0   -0.250440 -0.258174 -0.263648  \n1   -0.699455 -0.703173 -0.681782  \n2   -0.080054 -0.066976 -0.059199  \n3   -1.989918 -1.952441 -1.972665  \n4   -0.852423 -0.861295 -0.844654  \n..        ...       ...       ...  \n129 -1.762538 -1.755148 -1.748768  \n130 -1.294596 -1.280140 -1.279292  \n131 -0.521345 -0.538163 -0.553964  \n132 -1.790950 -1.772221 -1.802777  \n133 -0.179110 -0.182167 -0.163429  \n\n[134 rows x 10 columns]",
      "text/html": "<div>\n<style scoped>\n    .dataframe tbody tr th:only-of-type {\n        vertical-align: middle;\n    }\n\n    .dataframe tbody tr th {\n        vertical-align: top;\n    }\n\n    .dataframe thead th {\n        text-align: right;\n    }\n</style>\n<table border=\"1\" class=\"dataframe\">\n  <thead>\n    <tr style=\"text-align: right;\">\n      <th></th>\n      <th>0</th>\n      <th>1</th>\n      <th>2</th>\n      <th>3</th>\n      <th>4</th>\n      <th>5</th>\n      <th>6</th>\n      <th>7</th>\n      <th>8</th>\n      <th>9</th>\n    </tr>\n  </thead>\n  <tbody>\n    <tr>\n      <th>0</th>\n      <td>-1.218195</td>\n      <td>-1.086275</td>\n      <td>-0.263831</td>\n      <td>-0.251098</td>\n      <td>-0.259852</td>\n      <td>-0.250144</td>\n      <td>-0.277268</td>\n      <td>-0.250440</td>\n      <td>-0.258174</td>\n      <td>-0.263648</td>\n    </tr>\n    <tr>\n      <th>1</th>\n      <td>-0.324760</td>\n      <td>-1.430624</td>\n      <td>-0.718211</td>\n      <td>-0.683088</td>\n      <td>-0.678600</td>\n      <td>-0.708994</td>\n      <td>-0.692358</td>\n      <td>-0.699455</td>\n      <td>-0.703173</td>\n      <td>-0.681782</td>\n    </tr>\n    <tr>\n      <th>2</th>\n      <td>-1.097948</td>\n      <td>-0.353872</td>\n      <td>-0.061290</td>\n      <td>-0.060664</td>\n      <td>-0.066387</td>\n      <td>-0.071954</td>\n      <td>-0.067811</td>\n      <td>-0.080054</td>\n      <td>-0.066976</td>\n      <td>-0.059199</td>\n    </tr>\n    <tr>\n      <th>3</th>\n      <td>-1.911652</td>\n      <td>-0.852492</td>\n      <td>-1.977808</td>\n      <td>-1.973486</td>\n      <td>-1.971479</td>\n      <td>-1.958383</td>\n      <td>-1.946350</td>\n      <td>-1.989918</td>\n      <td>-1.952441</td>\n      <td>-1.972665</td>\n    </tr>\n    <tr>\n      <th>4</th>\n      <td>-0.500609</td>\n      <td>-1.530723</td>\n      <td>-0.849811</td>\n      <td>-0.879037</td>\n      <td>-0.860548</td>\n      <td>-0.874949</td>\n      <td>-0.871702</td>\n      <td>-0.852423</td>\n      <td>-0.861295</td>\n      <td>-0.844654</td>\n    </tr>\n    <tr>\n      <th>...</th>\n      <td>...</td>\n      <td>...</td>\n      <td>...</td>\n      <td>...</td>\n      <td>...</td>\n      <td>...</td>\n      <td>...</td>\n      <td>...</td>\n      <td>...</td>\n      <td>...</td>\n    </tr>\n    <tr>\n      <th>129</th>\n      <td>-1.232509</td>\n      <td>-1.740134</td>\n      <td>-1.780201</td>\n      <td>-1.760946</td>\n      <td>-1.753791</td>\n      <td>-1.754896</td>\n      <td>-1.723995</td>\n      <td>-1.762538</td>\n      <td>-1.755148</td>\n      <td>-1.748768</td>\n    </tr>\n    <tr>\n      <th>130</th>\n      <td>-2.522394</td>\n      <td>-0.355162</td>\n      <td>-1.282015</td>\n      <td>-1.286160</td>\n      <td>-1.302432</td>\n      <td>-1.297216</td>\n      <td>-1.286143</td>\n      <td>-1.294596</td>\n      <td>-1.280140</td>\n      <td>-1.279292</td>\n    </tr>\n    <tr>\n      <th>131</th>\n      <td>-0.627356</td>\n      <td>-0.815604</td>\n      <td>-0.555578</td>\n      <td>-0.531252</td>\n      <td>-0.537819</td>\n      <td>-0.526478</td>\n      <td>-0.541340</td>\n      <td>-0.521345</td>\n      <td>-0.538163</td>\n      <td>-0.553964</td>\n    </tr>\n    <tr>\n      <th>132</th>\n      <td>-0.722513</td>\n      <td>-1.562450</td>\n      <td>-1.792277</td>\n      <td>-1.775237</td>\n      <td>-1.788320</td>\n      <td>-1.767218</td>\n      <td>-1.785879</td>\n      <td>-1.790950</td>\n      <td>-1.772221</td>\n      <td>-1.802777</td>\n    </tr>\n    <tr>\n      <th>133</th>\n      <td>-0.101160</td>\n      <td>-0.033766</td>\n      <td>-0.165233</td>\n      <td>-0.192831</td>\n      <td>-0.180443</td>\n      <td>-0.191130</td>\n      <td>-0.182856</td>\n      <td>-0.179110</td>\n      <td>-0.182167</td>\n      <td>-0.163429</td>\n    </tr>\n  </tbody>\n</table>\n<p>134 rows × 10 columns</p>\n</div>"
     },
     "execution_count": 15,
     "metadata": {},
     "output_type": "execute_result"
    }
   ],
   "source": [
    "mdi_plus_scores[\"local\"][\"negative_mae\"]"
   ],
   "metadata": {
    "collapsed": false
   }
  },
  {
   "cell_type": "markdown",
   "source": [
    "### 1.3 MDI+ with custom transformer"
   ],
   "metadata": {
    "collapsed": false
   }
  },
  {
   "cell_type": "markdown",
   "source": [
    "The example below is equivalent to running RF+ with `include_raw=True`"
   ],
   "metadata": {
    "collapsed": false
   }
  },
  {
   "cell_type": "code",
   "execution_count": 16,
   "outputs": [],
   "source": [
    "# fit RF+ with custom transformer\n",
    "rf_plus_model = RandomForestPlusRegressor(rf_model=rf_regressor, include_raw=False, add_transformers=[IdentityTransformer()])\n",
    "rf_plus_model.fit(X_train, y_train)"
   ],
   "metadata": {
    "collapsed": false
   }
  },
  {
   "cell_type": "code",
   "execution_count": 17,
   "outputs": [
    {
     "data": {
      "text/plain": "   var  importance\n1    1    0.283971\n0    0    0.244754\n5    5   -0.000707\n2    2   -0.004586\n7    7   -0.004675\n4    4   -0.005303\n3    3   -0.005881\n9    9   -0.006766\n8    8   -0.006979\n6    6   -0.008007",
      "text/html": "<div>\n<style scoped>\n    .dataframe tbody tr th:only-of-type {\n        vertical-align: middle;\n    }\n\n    .dataframe tbody tr th {\n        vertical-align: top;\n    }\n\n    .dataframe thead th {\n        text-align: right;\n    }\n</style>\n<table border=\"1\" class=\"dataframe\">\n  <thead>\n    <tr style=\"text-align: right;\">\n      <th></th>\n      <th>var</th>\n      <th>importance</th>\n    </tr>\n  </thead>\n  <tbody>\n    <tr>\n      <th>1</th>\n      <td>1</td>\n      <td>0.283971</td>\n    </tr>\n    <tr>\n      <th>0</th>\n      <td>0</td>\n      <td>0.244754</td>\n    </tr>\n    <tr>\n      <th>5</th>\n      <td>5</td>\n      <td>-0.000707</td>\n    </tr>\n    <tr>\n      <th>2</th>\n      <td>2</td>\n      <td>-0.004586</td>\n    </tr>\n    <tr>\n      <th>7</th>\n      <td>7</td>\n      <td>-0.004675</td>\n    </tr>\n    <tr>\n      <th>4</th>\n      <td>4</td>\n      <td>-0.005303</td>\n    </tr>\n    <tr>\n      <th>3</th>\n      <td>3</td>\n      <td>-0.005881</td>\n    </tr>\n    <tr>\n      <th>9</th>\n      <td>9</td>\n      <td>-0.006766</td>\n    </tr>\n    <tr>\n      <th>8</th>\n      <td>8</td>\n      <td>-0.006979</td>\n    </tr>\n    <tr>\n      <th>6</th>\n      <td>6</td>\n      <td>-0.008007</td>\n    </tr>\n  </tbody>\n</table>\n</div>"
     },
     "execution_count": 17,
     "metadata": {},
     "output_type": "execute_result"
    }
   ],
   "source": [
    "# get MDI+ scores\n",
    "mdi_plus_scores = rf_plus_model.get_mdi_plus_scores(X_train, y_train)\n",
    "mdi_plus_scores.sort_values(\"importance\", ascending=False)"
   ],
   "metadata": {
    "collapsed": false
   }
  },
  {
   "cell_type": "markdown",
   "source": [
    "### 1.4 Choosing the GLM and scoring metric via stability score"
   ],
   "metadata": {
    "collapsed": false
   }
  },
  {
   "cell_type": "markdown",
   "source": [
    "There are many choices of GLMs and scoring metrics that can be made within the MDI+ framework.\n",
    "\n",
    "One way to select the GLM and scoring metric in MDI+ is by evaluating the stability of the feature importances/rankings for each choice of GLM/metric and taking the GLM/metric that is the most stable across different bootstrap samples of trees. For example, we can take the GLM and metric with the highest stability score, as measured by RBO below."
   ],
   "metadata": {
    "collapsed": false
   }
  },
  {
   "cell_type": "code",
   "execution_count": 18,
   "outputs": [],
   "source": [
    "n_bootstraps = 25\n",
    "prediction_models = {\"ridge\": RidgeRegressorPPM(), \"lasso\": LassoRegressorPPM()}\n",
    "scoring_fns = {\"r2\": _fast_r2_score, \"neg_mae\": neg_mae}\n",
    "stability_dict = {}\n",
    "for model_name, prediction_model in prediction_models.items():\n",
    "    # fit RF+\n",
    "    rf_plus_model = RandomForestPlusRegressor(rf_model=rf_regressor, prediction_model=prediction_model)\n",
    "    rf_plus_model.fit(X_train, y_train)\n",
    "    # get MDI+ scores\n",
    "    mdi_plus_scores = rf_plus_model.get_mdi_plus_scores(X_train, y_train, scoring_fns=scoring_fns)\n",
    "    # get MDI+ stability scores\n",
    "    mdi_plus_stability_scores = rf_plus_model.get_mdi_plus_stability_scores(B=n_bootstraps)\n",
    "    stability_dict[model_name] = mdi_plus_stability_scores"
   ],
   "metadata": {
    "collapsed": false
   }
  },
  {
   "cell_type": "code",
   "execution_count": 19,
   "outputs": [
    {
     "data": {
      "text/plain": "     ppm   scorer       RBO     tauAP\n0  ridge       r2  0.895594  0.795996\n1  ridge  neg_mae  0.834894  0.740198\n2  lasso       r2  0.812896  0.700536\n3  lasso  neg_mae  0.779714  0.652245",
      "text/html": "<div>\n<style scoped>\n    .dataframe tbody tr th:only-of-type {\n        vertical-align: middle;\n    }\n\n    .dataframe tbody tr th {\n        vertical-align: top;\n    }\n\n    .dataframe thead th {\n        text-align: right;\n    }\n</style>\n<table border=\"1\" class=\"dataframe\">\n  <thead>\n    <tr style=\"text-align: right;\">\n      <th></th>\n      <th>ppm</th>\n      <th>scorer</th>\n      <th>RBO</th>\n      <th>tauAP</th>\n    </tr>\n  </thead>\n  <tbody>\n    <tr>\n      <th>0</th>\n      <td>ridge</td>\n      <td>r2</td>\n      <td>0.895594</td>\n      <td>0.795996</td>\n    </tr>\n    <tr>\n      <th>1</th>\n      <td>ridge</td>\n      <td>neg_mae</td>\n      <td>0.834894</td>\n      <td>0.740198</td>\n    </tr>\n    <tr>\n      <th>2</th>\n      <td>lasso</td>\n      <td>r2</td>\n      <td>0.812896</td>\n      <td>0.700536</td>\n    </tr>\n    <tr>\n      <th>3</th>\n      <td>lasso</td>\n      <td>neg_mae</td>\n      <td>0.779714</td>\n      <td>0.652245</td>\n    </tr>\n  </tbody>\n</table>\n</div>"
     },
     "execution_count": 19,
     "metadata": {},
     "output_type": "execute_result"
    }
   ],
   "source": [
    "pd.concat(stability_dict, axis=0).reset_index().rename(columns={\"level_0\": \"ppm\"}).drop(columns=[\"level_1\"]).sort_values(\"RBO\", ascending=False)"
   ],
   "metadata": {
    "collapsed": false
   }
  },
  {
   "cell_type": "markdown",
   "source": [
    "### 1.5 Aggregating multiple MDI+ rankings in an ensemble"
   ],
   "metadata": {
    "collapsed": false
   }
  },
  {
   "cell_type": "markdown",
   "source": [
    "Instead of choosing a single GLM and metric to use in MDI+, it may be preferable in some cases to aggregate MDI+ feature importances/rankings across multiple choices of GLMs and metrics.\n",
    "\n",
    "One naive method for doing this ensembling is to take the median rank across each choice of GLM and metric (as shown below). However, more creative ensembling schemes can also be explored."
   ],
   "metadata": {
    "collapsed": false
   }
  },
  {
   "cell_type": "code",
   "execution_count": 20,
   "outputs": [],
   "source": [
    "prediction_models = {\"ridge\": RidgeRegressorPPM(), \"lasso\": LassoRegressorPPM()}\n",
    "scoring_fns = {\"r2\": _fast_r2_score, \"neg_mae\": neg_mae}\n",
    "mdi_plus_scores_dict = {}\n",
    "for model_name, prediction_model in prediction_models.items():\n",
    "    # fit RF+\n",
    "    rf_plus_model = RandomForestPlusRegressor(rf_model=rf_regressor, prediction_model=prediction_model)\n",
    "    rf_plus_model.fit(X_train, y_train)\n",
    "    # get MDI+ scores\n",
    "    mdi_plus_scores = rf_plus_model.get_mdi_plus_scores(X_train, y_train, scoring_fns=scoring_fns)\n",
    "    for col in mdi_plus_scores.columns:\n",
    "        if col != \"var\":\n",
    "            mdi_plus_scores = mdi_plus_scores.rename(columns={col: model_name + \"_\" + col})\n",
    "    mdi_plus_scores_dict[model_name] = mdi_plus_scores"
   ],
   "metadata": {
    "collapsed": false
   }
  },
  {
   "cell_type": "code",
   "execution_count": 21,
   "outputs": [
    {
     "data": {
      "text/plain": "   var  median_rank\n1    1          1.0\n0    0          2.0\n5    5          3.5\n3    3          6.0\n7    7          6.0\n2    2          6.5\n8    8          6.5\n9    9          7.0\n4    4          8.0\n6    6         10.0",
      "text/html": "<div>\n<style scoped>\n    .dataframe tbody tr th:only-of-type {\n        vertical-align: middle;\n    }\n\n    .dataframe tbody tr th {\n        vertical-align: top;\n    }\n\n    .dataframe thead th {\n        text-align: right;\n    }\n</style>\n<table border=\"1\" class=\"dataframe\">\n  <thead>\n    <tr style=\"text-align: right;\">\n      <th></th>\n      <th>var</th>\n      <th>median_rank</th>\n    </tr>\n  </thead>\n  <tbody>\n    <tr>\n      <th>1</th>\n      <td>1</td>\n      <td>1.0</td>\n    </tr>\n    <tr>\n      <th>0</th>\n      <td>0</td>\n      <td>2.0</td>\n    </tr>\n    <tr>\n      <th>5</th>\n      <td>5</td>\n      <td>3.5</td>\n    </tr>\n    <tr>\n      <th>3</th>\n      <td>3</td>\n      <td>6.0</td>\n    </tr>\n    <tr>\n      <th>7</th>\n      <td>7</td>\n      <td>6.0</td>\n    </tr>\n    <tr>\n      <th>2</th>\n      <td>2</td>\n      <td>6.5</td>\n    </tr>\n    <tr>\n      <th>8</th>\n      <td>8</td>\n      <td>6.5</td>\n    </tr>\n    <tr>\n      <th>9</th>\n      <td>9</td>\n      <td>7.0</td>\n    </tr>\n    <tr>\n      <th>4</th>\n      <td>4</td>\n      <td>8.0</td>\n    </tr>\n    <tr>\n      <th>6</th>\n      <td>6</td>\n      <td>10.0</td>\n    </tr>\n  </tbody>\n</table>\n</div>"
     },
     "execution_count": 21,
     "metadata": {},
     "output_type": "execute_result"
    }
   ],
   "source": [
    "mdi_plus_scores_df = pd.concat([df.set_index('var') for df in mdi_plus_scores_dict.values()], axis=1)\n",
    "mdi_plus_ranks_df = mdi_plus_scores_df.rank(ascending=False).median(axis=1)\n",
    "mdi_plus_ranks_df = pd.DataFrame(mdi_plus_ranks_df, columns=[\"median_rank\"]).reset_index()\n",
    "mdi_plus_ranks_df.sort_values(\"median_rank\")"
   ],
   "metadata": {
    "collapsed": false
   }
  },
  {
   "cell_type": "markdown",
   "source": [
    "## 2. Classification Example"
   ],
   "metadata": {
    "collapsed": false
   }
  },
  {
   "cell_type": "code",
   "execution_count": 22,
   "outputs": [],
   "source": [
    "# generate data from logistic model: logit(E[Y|X]) = x1 + x2\n",
    "n = 200\n",
    "p = 10\n",
    "s = 2\n",
    "X = np.random.normal(size=(n, p))\n",
    "beta = np.concatenate((np.ones(s), np.zeros(p-s)))\n",
    "probs = 1 / (1 + np.exp(-np.matmul(X, beta)))\n",
    "y = (np.random.uniform(size=n) < probs) * 1\n",
    "X_train, X_test, y_train, y_test = train_test_split(X, y, test_size=0.33, random_state=12345)"
   ],
   "metadata": {
    "collapsed": false
   }
  },
  {
   "cell_type": "markdown",
   "source": [
    "### 2.1 MDI+ with default classification settings"
   ],
   "metadata": {
    "collapsed": false
   }
  },
  {
   "cell_type": "code",
   "execution_count": 23,
   "outputs": [],
   "source": [
    "# fit RF+\n",
    "rf_plus_model = RandomForestPlusClassifier(rf_model=rf_classifier)\n",
    "rf_plus_model.fit(X_train, y_train)"
   ],
   "metadata": {
    "collapsed": false
   }
  },
  {
   "cell_type": "code",
   "execution_count": 24,
   "outputs": [
    {
     "data": {
      "text/plain": "(0.7575757575757576, 0.8787593984962406)"
     },
     "execution_count": 24,
     "metadata": {},
     "output_type": "execute_result"
    }
   ],
   "source": [
    "# make predictions with RF+\n",
    "preds = rf_plus_model.predict(X_test)\n",
    "prob_preds = rf_plus_model.predict_proba(X_test)\n",
    "accuracy_score(y_test, preds), roc_auc_score(y_test, prob_preds[:, 1])"
   ],
   "metadata": {
    "collapsed": false
   }
  },
  {
   "cell_type": "code",
   "execution_count": 25,
   "outputs": [
    {
     "data": {
      "text/plain": "   var  importance\n0    0   -0.611236\n1    1   -0.619968\n8    8   -0.682693\n7    7   -0.694262\n4    4   -0.694657\n5    5   -0.695846\n2    2   -0.697825\n3    3   -0.697842\n6    6   -0.697853\n9    9   -0.697854",
      "text/html": "<div>\n<style scoped>\n    .dataframe tbody tr th:only-of-type {\n        vertical-align: middle;\n    }\n\n    .dataframe tbody tr th {\n        vertical-align: top;\n    }\n\n    .dataframe thead th {\n        text-align: right;\n    }\n</style>\n<table border=\"1\" class=\"dataframe\">\n  <thead>\n    <tr style=\"text-align: right;\">\n      <th></th>\n      <th>var</th>\n      <th>importance</th>\n    </tr>\n  </thead>\n  <tbody>\n    <tr>\n      <th>0</th>\n      <td>0</td>\n      <td>-0.611236</td>\n    </tr>\n    <tr>\n      <th>1</th>\n      <td>1</td>\n      <td>-0.619968</td>\n    </tr>\n    <tr>\n      <th>8</th>\n      <td>8</td>\n      <td>-0.682693</td>\n    </tr>\n    <tr>\n      <th>7</th>\n      <td>7</td>\n      <td>-0.694262</td>\n    </tr>\n    <tr>\n      <th>4</th>\n      <td>4</td>\n      <td>-0.694657</td>\n    </tr>\n    <tr>\n      <th>5</th>\n      <td>5</td>\n      <td>-0.695846</td>\n    </tr>\n    <tr>\n      <th>2</th>\n      <td>2</td>\n      <td>-0.697825</td>\n    </tr>\n    <tr>\n      <th>3</th>\n      <td>3</td>\n      <td>-0.697842</td>\n    </tr>\n    <tr>\n      <th>6</th>\n      <td>6</td>\n      <td>-0.697853</td>\n    </tr>\n    <tr>\n      <th>9</th>\n      <td>9</td>\n      <td>-0.697854</td>\n    </tr>\n  </tbody>\n</table>\n</div>"
     },
     "execution_count": 25,
     "metadata": {},
     "output_type": "execute_result"
    }
   ],
   "source": [
    "# get MDI+ scores (higher ngative log-loss value = greater importance)\n",
    "mdi_plus_scores = rf_plus_model.get_mdi_plus_scores(X_train, y_train)\n",
    "mdi_plus_scores.sort_values(\"importance\", ascending=False)"
   ],
   "metadata": {
    "collapsed": false
   }
  },
  {
   "cell_type": "markdown",
   "source": [
    "#### 2.1.1. Local Feature Importances"
   ],
   "metadata": {
    "collapsed": false
   }
  },
  {
   "cell_type": "code",
   "execution_count": 26,
   "outputs": [],
   "source": [
    "# get MDI+ scores (higher ngative log-loss value = greater importance)\n",
    "mdi_plus_scores = rf_plus_model.get_mdi_plus_scores(\n",
    "    X_train, y_train, local_scoring_fns=neg_log_loss\n",
    ")"
   ],
   "metadata": {
    "collapsed": false
   }
  },
  {
   "cell_type": "code",
   "execution_count": 27,
   "outputs": [
    {
     "data": {
      "text/plain": "   var  importance\n0    0   -0.611236\n1    1   -0.619968\n8    8   -0.682693\n7    7   -0.694262\n4    4   -0.694657\n5    5   -0.695846\n2    2   -0.697825\n3    3   -0.697842\n6    6   -0.697853\n9    9   -0.697854",
      "text/html": "<div>\n<style scoped>\n    .dataframe tbody tr th:only-of-type {\n        vertical-align: middle;\n    }\n\n    .dataframe tbody tr th {\n        vertical-align: top;\n    }\n\n    .dataframe thead th {\n        text-align: right;\n    }\n</style>\n<table border=\"1\" class=\"dataframe\">\n  <thead>\n    <tr style=\"text-align: right;\">\n      <th></th>\n      <th>var</th>\n      <th>importance</th>\n    </tr>\n  </thead>\n  <tbody>\n    <tr>\n      <th>0</th>\n      <td>0</td>\n      <td>-0.611236</td>\n    </tr>\n    <tr>\n      <th>1</th>\n      <td>1</td>\n      <td>-0.619968</td>\n    </tr>\n    <tr>\n      <th>8</th>\n      <td>8</td>\n      <td>-0.682693</td>\n    </tr>\n    <tr>\n      <th>7</th>\n      <td>7</td>\n      <td>-0.694262</td>\n    </tr>\n    <tr>\n      <th>4</th>\n      <td>4</td>\n      <td>-0.694657</td>\n    </tr>\n    <tr>\n      <th>5</th>\n      <td>5</td>\n      <td>-0.695846</td>\n    </tr>\n    <tr>\n      <th>2</th>\n      <td>2</td>\n      <td>-0.697825</td>\n    </tr>\n    <tr>\n      <th>3</th>\n      <td>3</td>\n      <td>-0.697842</td>\n    </tr>\n    <tr>\n      <th>6</th>\n      <td>6</td>\n      <td>-0.697853</td>\n    </tr>\n    <tr>\n      <th>9</th>\n      <td>9</td>\n      <td>-0.697854</td>\n    </tr>\n  </tbody>\n</table>\n</div>"
     },
     "execution_count": 27,
     "metadata": {},
     "output_type": "execute_result"
    }
   ],
   "source": [
    "mdi_plus_scores[\"global\"].sort_values(\"importance\", ascending=False)"
   ],
   "metadata": {
    "collapsed": false
   }
  },
  {
   "cell_type": "code",
   "execution_count": 28,
   "outputs": [
    {
     "data": {
      "text/plain": "            0         1         2         3         4         5         6  \\\n0   -0.216479 -1.172916 -0.470820 -0.545394 -0.576718 -0.548130 -0.571722   \n1   -0.587499 -0.503095 -0.833938 -0.798727 -0.814780 -0.798016 -0.866046   \n2   -0.808003 -0.363758 -0.830201 -0.869650 -0.764886 -0.812473 -0.808661   \n3   -0.255469 -0.448475 -0.461606 -0.554558 -0.592228 -0.617331 -0.542109   \n4   -1.546905 -0.198936 -0.742055 -0.865773 -0.778822 -1.062021 -0.777047   \n..        ...       ...       ...       ...       ...       ...       ...   \n129 -0.773690 -0.221940 -0.608869 -0.569908 -0.566074 -0.545340 -0.548790   \n130 -1.470868 -0.619016 -0.884725 -0.897923 -0.798674 -0.831613 -0.896996   \n131 -1.571851 -0.698116 -0.521071 -0.551166 -0.580817 -0.588926 -0.571167   \n132 -0.203678 -0.306391 -0.990438 -0.857359 -0.805015 -0.812245 -0.850179   \n133 -0.612237 -0.241069 -0.740944 -0.755233 -0.972094 -0.860041 -0.857537   \n\n            7         8         9  \n0   -0.498400 -0.557418 -0.566462  \n1   -0.831395 -0.746586 -0.789955  \n2   -0.815958 -0.707285 -0.877089  \n3   -0.528450 -0.484905 -0.567123  \n4   -0.971943 -0.906873 -0.877860  \n..        ...       ...       ...  \n129 -0.558634 -0.549269 -0.635422  \n130 -0.779019 -0.941617 -1.001155  \n131 -0.588543 -0.436418 -0.553002  \n132 -0.853869 -0.945000 -0.854497  \n133 -0.784799 -1.125222 -0.850016  \n\n[134 rows x 10 columns]",
      "text/html": "<div>\n<style scoped>\n    .dataframe tbody tr th:only-of-type {\n        vertical-align: middle;\n    }\n\n    .dataframe tbody tr th {\n        vertical-align: top;\n    }\n\n    .dataframe thead th {\n        text-align: right;\n    }\n</style>\n<table border=\"1\" class=\"dataframe\">\n  <thead>\n    <tr style=\"text-align: right;\">\n      <th></th>\n      <th>0</th>\n      <th>1</th>\n      <th>2</th>\n      <th>3</th>\n      <th>4</th>\n      <th>5</th>\n      <th>6</th>\n      <th>7</th>\n      <th>8</th>\n      <th>9</th>\n    </tr>\n  </thead>\n  <tbody>\n    <tr>\n      <th>0</th>\n      <td>-0.216479</td>\n      <td>-1.172916</td>\n      <td>-0.470820</td>\n      <td>-0.545394</td>\n      <td>-0.576718</td>\n      <td>-0.548130</td>\n      <td>-0.571722</td>\n      <td>-0.498400</td>\n      <td>-0.557418</td>\n      <td>-0.566462</td>\n    </tr>\n    <tr>\n      <th>1</th>\n      <td>-0.587499</td>\n      <td>-0.503095</td>\n      <td>-0.833938</td>\n      <td>-0.798727</td>\n      <td>-0.814780</td>\n      <td>-0.798016</td>\n      <td>-0.866046</td>\n      <td>-0.831395</td>\n      <td>-0.746586</td>\n      <td>-0.789955</td>\n    </tr>\n    <tr>\n      <th>2</th>\n      <td>-0.808003</td>\n      <td>-0.363758</td>\n      <td>-0.830201</td>\n      <td>-0.869650</td>\n      <td>-0.764886</td>\n      <td>-0.812473</td>\n      <td>-0.808661</td>\n      <td>-0.815958</td>\n      <td>-0.707285</td>\n      <td>-0.877089</td>\n    </tr>\n    <tr>\n      <th>3</th>\n      <td>-0.255469</td>\n      <td>-0.448475</td>\n      <td>-0.461606</td>\n      <td>-0.554558</td>\n      <td>-0.592228</td>\n      <td>-0.617331</td>\n      <td>-0.542109</td>\n      <td>-0.528450</td>\n      <td>-0.484905</td>\n      <td>-0.567123</td>\n    </tr>\n    <tr>\n      <th>4</th>\n      <td>-1.546905</td>\n      <td>-0.198936</td>\n      <td>-0.742055</td>\n      <td>-0.865773</td>\n      <td>-0.778822</td>\n      <td>-1.062021</td>\n      <td>-0.777047</td>\n      <td>-0.971943</td>\n      <td>-0.906873</td>\n      <td>-0.877860</td>\n    </tr>\n    <tr>\n      <th>...</th>\n      <td>...</td>\n      <td>...</td>\n      <td>...</td>\n      <td>...</td>\n      <td>...</td>\n      <td>...</td>\n      <td>...</td>\n      <td>...</td>\n      <td>...</td>\n      <td>...</td>\n    </tr>\n    <tr>\n      <th>129</th>\n      <td>-0.773690</td>\n      <td>-0.221940</td>\n      <td>-0.608869</td>\n      <td>-0.569908</td>\n      <td>-0.566074</td>\n      <td>-0.545340</td>\n      <td>-0.548790</td>\n      <td>-0.558634</td>\n      <td>-0.549269</td>\n      <td>-0.635422</td>\n    </tr>\n    <tr>\n      <th>130</th>\n      <td>-1.470868</td>\n      <td>-0.619016</td>\n      <td>-0.884725</td>\n      <td>-0.897923</td>\n      <td>-0.798674</td>\n      <td>-0.831613</td>\n      <td>-0.896996</td>\n      <td>-0.779019</td>\n      <td>-0.941617</td>\n      <td>-1.001155</td>\n    </tr>\n    <tr>\n      <th>131</th>\n      <td>-1.571851</td>\n      <td>-0.698116</td>\n      <td>-0.521071</td>\n      <td>-0.551166</td>\n      <td>-0.580817</td>\n      <td>-0.588926</td>\n      <td>-0.571167</td>\n      <td>-0.588543</td>\n      <td>-0.436418</td>\n      <td>-0.553002</td>\n    </tr>\n    <tr>\n      <th>132</th>\n      <td>-0.203678</td>\n      <td>-0.306391</td>\n      <td>-0.990438</td>\n      <td>-0.857359</td>\n      <td>-0.805015</td>\n      <td>-0.812245</td>\n      <td>-0.850179</td>\n      <td>-0.853869</td>\n      <td>-0.945000</td>\n      <td>-0.854497</td>\n    </tr>\n    <tr>\n      <th>133</th>\n      <td>-0.612237</td>\n      <td>-0.241069</td>\n      <td>-0.740944</td>\n      <td>-0.755233</td>\n      <td>-0.972094</td>\n      <td>-0.860041</td>\n      <td>-0.857537</td>\n      <td>-0.784799</td>\n      <td>-1.125222</td>\n      <td>-0.850016</td>\n    </tr>\n  </tbody>\n</table>\n<p>134 rows × 10 columns</p>\n</div>"
     },
     "execution_count": 28,
     "metadata": {},
     "output_type": "execute_result"
    }
   ],
   "source": [
    "mdi_plus_scores[\"local\"]"
   ],
   "metadata": {
    "collapsed": false
   }
  },
  {
   "cell_type": "markdown",
   "source": [
    "Note: `neg_log_loss()` was re-defined here since the default sklearn `log_loss()` metric requires vector inputs and thus cannot be directly used as a local scoring function."
   ],
   "metadata": {
    "collapsed": false
   }
  },
  {
   "cell_type": "code",
   "execution_count": null,
   "outputs": [],
   "source": [],
   "metadata": {
    "collapsed": false
   }
  }
 ],
 "metadata": {
  "kernelspec": {
   "display_name": "Python 3",
   "language": "python",
   "name": "python3"
  },
  "language_info": {
   "codemirror_mode": {
    "name": "ipython",
    "version": 2
   },
   "file_extension": ".py",
   "mimetype": "text/x-python",
   "name": "python",
   "nbconvert_exporter": "python",
   "pygments_lexer": "ipython2",
   "version": "2.7.6"
  }
 },
 "nbformat": 4,
 "nbformat_minor": 0
}
